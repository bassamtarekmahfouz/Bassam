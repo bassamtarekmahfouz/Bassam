{
 "cells": [
  {
   "cell_type": "markdown",
   "metadata": {},
   "source": [
    "# Step 1: Import Necessary Libraries\n",
    "**First, import the necessary libraries.**"
   ]
  },
  {
   "cell_type": "code",
   "execution_count": null,
   "metadata": {},
   "outputs": [],
   "source": [
    "import torch\n",
    "import torch.nn as nn\n",
    "import torch.optim as optim\n",
    "from torch.utils.data import DataLoader\n",
    "from torchvision import datasets, transforms\n"
   ]
  },
  {
   "cell_type": "markdown",
   "metadata": {},
   "source": [
    "# Step 2: Define the Residual Block\n",
    "\n",
    "**Define the basic building block of ResNet, the residual block.**"
   ]
  },
  {
   "cell_type": "code",
   "execution_count": null,
   "metadata": {},
   "outputs": [],
   "source": [
    "class ResidualBlock(nn.Module):\n",
    "    def __init__(self, in_channels, out_channels, stride=1, downsample=None):\n",
    "        super(ResidualBlock, self).__init__()\n",
    "        # First convolutional layer in the block\n",
    "        self.conv1 = nn.Conv2d(in_channels, out_channels, kernel_size=3, stride=stride, padding=1, bias=False)\n",
    "        # Batch normalization after the first convolution\n",
    "        self.bn1 = nn.BatchNorm2d(out_channels)\n",
    "        # ReLU activation function\n",
    "        self.relu = nn.ReLU(inplace=True)\n",
    "        # Second convolutional layer in the block\n",
    "        self.conv2 = nn.Conv2d(out_channels, out_channels, kernel_size=3, stride=1, padding=1, bias=False)\n",
    "        # Batch normalization after the second convolution\n",
    "        self.bn2 = nn.BatchNorm2d(out_channels)\n",
    "        # Downsample layer for matching dimensions if needed\n",
    "        self.downsample = downsample\n",
    "\n",
    "    def forward(self, x):\n",
    "        # Save the input tensor as the residual (shortcut connection)\n",
    "        residual = x\n",
    "        # Pass the input through the first convolutional layer\n",
    "        out1 = self.conv1(x)\n",
    "        # Apply batch normalization\n",
    "        out2 = self.bn1(out1)\n",
    "        # Apply ReLU activation function\n",
    "        out3 = self.relu(out2)\n",
    "        # Pass the output through the second convolutional layer\n",
    "        out4 = self.conv2(out3)\n",
    "        # Apply batch normalization\n",
    "        out5 = self.bn2(out4)\n",
    "\n",
    "        # If downsampling is needed, apply the downsampling layer\n",
    "        if self.downsample:\n",
    "            residual = self.downsample(x)\n",
    "\n",
    "        # Add the residual (shortcut connection) to the output\n",
    "        out5 += residual\n",
    "        # Apply ReLU activation function to the final output\n",
    "        out6 = self.relu(out5)\n",
    "        return out6\n"
   ]
  },
  {
   "cell_type": "markdown",
   "metadata": {},
   "source": [
    "# Step 3: Define the ResNet Model\n",
    "**Define the ResNet model using the residual blocks.**"
   ]
  },
  {
   "cell_type": "code",
   "execution_count": null,
   "metadata": {},
   "outputs": [],
   "source": [
    "class ResNet(nn.Module):\n",
    "    def __init__(self, block, layers, num_classes=1000):\n",
    "        super(ResNet, self).__init__()\n",
    "        self.in_channels = 64  # Initial number of input channels for the first layer\n",
    "        # Initial convolutional layer with 7x7 kernel, stride of 2, and padding of 3\n",
    "        self.conv1 = nn.Conv2d(3, 64, kernel_size=7, stride=2, padding=3, bias=False)\n",
    "        # Batch normalization for the first convolutional layer\n",
    "        self.bn1 = nn.BatchNorm2d(64)\n",
    "        # ReLU activation function\n",
    "        self.relu = nn.ReLU(inplace=True)  # inplace=True for memory optimization\n",
    "        # Max pooling layer with 3x3 kernel, stride of 2, and padding of 1\n",
    "        self.maxpool = nn.MaxPool2d(kernel_size=3, stride=2, padding=1)\n",
    "        # Creating the first block of layers (layer1)\n",
    "        self.layer1 = self._make_layer(block, 64, layers[0])\n",
    "        # Creating the second block of layers (layer2) with a stride of 2\n",
    "        self.layer2 = self._make_layer(block, 128, layers[1], stride=2)\n",
    "        # Creating the third block of layers (layer3) with a stride of 2\n",
    "        self.layer3 = self._make_layer(block, 256, layers[2], stride=2)\n",
    "        # Creating the fourth block of layers (layer4) with a stride of 2\n",
    "        self.layer4 = self._make_layer(block, 512, layers[3], stride=2)\n",
    "        # Adaptive average pooling layer that outputs 1x1 spatial dimensions\n",
    "        self.avgpool = nn.AdaptiveAvgPool2d((1, 1))\n",
    "        # Fully connected layer for classification\n",
    "        self.fc = nn.Linear(512 * block.expansion, num_classes)\n",
    "\n",
    "    def _make_layer(self, block, out_channels, blocks, stride=1):\n",
    "        downsample = None\n",
    "        # If the stride is not 1 or the input channels don't match the output channels after expansion, perform downsampling\n",
    "        if stride != 1 or self.in_channels != out_channels * block.expansion:\n",
    "            downsample = nn.Sequential(\n",
    "                nn.Conv2d(self.in_channels, out_channels * block.expansion, kernel_size=1, stride=stride, bias=False),\n",
    "                nn.BatchNorm2d(out_channels * block.expansion)\n",
    "            )\n",
    "\n",
    "        layers = []\n",
    "        # Add the first block, which may include downsampling\n",
    "        layers.append(block(self.in_channels, out_channels, stride, downsample))\n",
    "        self.in_channels = out_channels * block.expansion\n",
    "        # Add the remaining blocks\n",
    "        for _ in range(1, blocks):\n",
    "            layers.append(block(self.in_channels, out_channels))\n",
    "\n",
    "        return nn.Sequential(*layers)\n",
    "\n",
    "    def forward(self, x):\n",
    "        x1 = self.conv1(x)  # Apply the initial convolutional layer\n",
    "        x2 = self.bn1(x1)  # Apply batch normalization\n",
    "        x3 = self.relu(x2)  # Apply ReLU activation\n",
    "        x4 = self.maxpool(x3)  # Apply max pooling\n",
    "        x5 = self.layer1(x4)  # Pass through the first block of layers\n",
    "        x6 = self.layer2(x5)  # Pass through the second block of layers\n",
    "        x7 = self.layer3(x6)  # Pass through the third block of layers\n",
    "        x8 = self.layer4(x7)  # Pass through the fourth block of layers\n",
    "        x9 = self.avgpool(x8)  # Apply adaptive average pooling\n",
    "        x10 = torch.flatten(x9, 1)  # Flatten the output to feed into the fully connected layer\n",
    "        x11 = self.fc(x10)  # Apply the fully connected layer\n",
    "        return x11  # Return the final output\n"
   ]
  },
  {
   "cell_type": "markdown",
   "metadata": {},
   "source": [
    "# Creating a ResNet Model\n",
    "**You can create specific versions of ResNet by specifying the number of blocks for each layer. For example, ResNet-18 and ResNet-34 have different numbers of blocks in each layer:**"
   ]
  },
  {
   "cell_type": "code",
   "execution_count": null,
   "metadata": {},
   "outputs": [],
   "source": [
    "def resnet18():\n",
    "    return ResNet(ResidualBlock, [2, 2, 2, 2])\n",
    "\n",
    "def resnet34():\n",
    "    return ResNet(ResidualBlock, [3, 4, 6, 3])\n"
   ]
  },
  {
   "cell_type": "markdown",
   "metadata": {},
   "source": [
    "# Example Usage\n",
    "**Here's how you can create and use a ResNet-18 model:**"
   ]
  },
  {
   "cell_type": "code",
   "execution_count": null,
   "metadata": {},
   "outputs": [],
   "source": [
    "model = resnet18()\n",
    "print(model)\n",
    "\n",
    "# Define a dummy input tensor with the shape (batch_size, channels, height, width)\n",
    "dummy_input = torch.randn(1, 3, 224, 224)\n",
    "\n",
    "# Forward pass through the model\n",
    "output = model(dummy_input)\n",
    "print(output.shape)\n"
   ]
  },
  {
   "cell_type": "markdown",
   "metadata": {},
   "source": [
    "# Step 4: Prepare the Data\n",
    "**Load and preprocess the dataset.**"
   ]
  },
  {
   "cell_type": "code",
   "execution_count": null,
   "metadata": {},
   "outputs": [],
   "source": [
    "transform = transforms.Compose([\n",
    "    transforms.Resize(256),\n",
    "    transforms.CenterCrop(224),\n",
    "    transforms.ToTensor(),\n",
    "    transforms.Normalize(mean=[0.485, 0.456, 0.406], std=[0.229, 0.224, 0.225]),\n",
    "])\n",
    "\n",
    "train_dataset = datasets.CIFAR10(root='./data', train=True, download=True, transform=transform)\n",
    "train_loader = DataLoader(train_dataset, batch_size=32, shuffle=True)\n",
    "\n",
    "test_dataset = datasets.CIFAR10(root='./data', train=False, download=True, transform=transform)\n",
    "test_loader = DataLoader(test_dataset, batch_size=32, shuffle=False)\n"
   ]
  },
  {
   "cell_type": "markdown",
   "metadata": {},
   "source": [
    "# Step 5: Train the Model\n",
    "**Train the ResNet model.**"
   ]
  },
  {
   "cell_type": "code",
   "execution_count": null,
   "metadata": {},
   "outputs": [],
   "source": [
    "device = torch.device('cuda' if torch.cuda.is_available() else 'cpu')\n",
    "model = resnet18().to(device)\n",
    "criterion = nn.CrossEntropyLoss()\n",
    "optimizer = optim.Adam(model.parameters(), lr=0.0001)\n",
    "\n",
    "num_epochs = 5\n",
    "\n",
    "for epoch in range(num_epochs):\n",
    "    model.train()\n",
    "    running_loss = 0.0\n",
    "    for inputs, labels in train_loader:\n",
    "        inputs, labels = inputs.to(device), labels.to(device)\n",
    "        optimizer.zero_grad()\n",
    "        outputs = model(inputs)\n",
    "        loss = criterion(outputs, labels)\n",
    "        loss.backward()\n",
    "        optimizer.step()\n",
    "        running_loss += loss.item()\n",
    "\n",
    "    print(f\"Epoch [{epoch+1}/{num_epochs}], Loss: {running_loss/len(train_loader):.4f}\")\n",
    "\n",
    "# Save the model\n",
    "torch.save(model.state_dict(), 'ModelResNet18.pth')\n"
   ]
  },
  {
   "cell_type": "markdown",
   "metadata": {},
   "source": [
    "# Step 6: Evaluate the Model\n",
    "**Evaluate the trained model on the test dataset.**"
   ]
  },
  {
   "cell_type": "code",
   "execution_count": null,
   "metadata": {},
   "outputs": [],
   "source": [
    "model.eval()\n",
    "correct = 0\n",
    "total = 0\n",
    "with torch.no_grad():\n",
    "    for inputs, labels in test_loader:\n",
    "        inputs, labels = inputs.to(device), labels.to(device)\n",
    "        outputs = model(inputs)\n",
    "        _, predicted = torch.max(outputs.data, 1)\n",
    "        total += labels.size(0)\n",
    "        correct += (predicted == labels).sum().item()\n",
    "\n",
    "print(f'Accuracy: {100 * correct / total:.2f}%')\n"
   ]
  }
 ],
 "metadata": {
  "kernelspec": {
   "display_name": "Python 3",
   "language": "python",
   "name": "python3"
  },
  "language_info": {
   "name": "python",
   "version": "3.11.0"
  }
 },
 "nbformat": 4,
 "nbformat_minor": 2
}
